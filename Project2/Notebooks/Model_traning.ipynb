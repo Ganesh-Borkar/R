{
 "cells": [
  {
   "cell_type": "code",
   "execution_count": 1,
   "id": "5a2cbafd",
   "metadata": {},
   "outputs": [],
   "source": [
    "import pandas as pd \n",
    "import numpy as np \n",
    "import seaborn as sns\n",
    "import matplotlib.pyplot as plt\n",
    "from sklearn.model_selection import train_test_split\n",
    "\n",
    "from sklearn.naive_bayes import GaussianNB\n",
    "from sklearn.svm import SVC\n",
    "from sklearn.multiclass import OneVsRestClassifier\n",
    "from sklearn.multioutput import MultiOutputClassifier\n",
    "from sklearn.ensemble import RandomForestClassifier\n",
    "from sklearn import tree\n",
    "from sklearn import pipeline"
   ]
  },
  {
   "cell_type": "code",
   "execution_count": 43,
   "id": "917ea2df",
   "metadata": {},
   "outputs": [
    {
     "data": {
      "text/html": [
       "<div>\n",
       "<style scoped>\n",
       "    .dataframe tbody tr th:only-of-type {\n",
       "        vertical-align: middle;\n",
       "    }\n",
       "\n",
       "    .dataframe tbody tr th {\n",
       "        vertical-align: top;\n",
       "    }\n",
       "\n",
       "    .dataframe thead th {\n",
       "        text-align: right;\n",
       "    }\n",
       "</style>\n",
       "<table border=\"1\" class=\"dataframe\">\n",
       "  <thead>\n",
       "    <tr style=\"text-align: right;\">\n",
       "      <th></th>\n",
       "      <th>T1</th>\n",
       "      <th>T2</th>\n",
       "      <th>T3</th>\n",
       "      <th>T4</th>\n",
       "      <th>T5</th>\n",
       "      <th>T6</th>\n",
       "      <th>T7</th>\n",
       "      <th>T8</th>\n",
       "      <th>T9</th>\n",
       "      <th>T10</th>\n",
       "      <th>...</th>\n",
       "      <th>T12</th>\n",
       "      <th>T13</th>\n",
       "      <th>T14</th>\n",
       "      <th>T15</th>\n",
       "      <th>T16</th>\n",
       "      <th>T17</th>\n",
       "      <th>T18</th>\n",
       "      <th>target</th>\n",
       "      <th>B_target</th>\n",
       "      <th>int_target</th>\n",
       "    </tr>\n",
       "  </thead>\n",
       "  <tbody>\n",
       "    <tr>\n",
       "      <th>0</th>\n",
       "      <td>-70</td>\n",
       "      <td>-61</td>\n",
       "      <td>-66</td>\n",
       "      <td>-53</td>\n",
       "      <td>-51</td>\n",
       "      <td>-63</td>\n",
       "      <td>-82</td>\n",
       "      <td>-57</td>\n",
       "      <td>-76</td>\n",
       "      <td>-78</td>\n",
       "      <td>...</td>\n",
       "      <td>-66</td>\n",
       "      <td>-61</td>\n",
       "      <td>-59</td>\n",
       "      <td>-73</td>\n",
       "      <td>-75</td>\n",
       "      <td>-63</td>\n",
       "      <td>-77</td>\n",
       "      <td>B37</td>\n",
       "      <td>0</td>\n",
       "      <td>-37</td>\n",
       "    </tr>\n",
       "    <tr>\n",
       "      <th>1</th>\n",
       "      <td>-77</td>\n",
       "      <td>-74</td>\n",
       "      <td>-71</td>\n",
       "      <td>-76</td>\n",
       "      <td>-65</td>\n",
       "      <td>-63</td>\n",
       "      <td>-66</td>\n",
       "      <td>-52</td>\n",
       "      <td>-55</td>\n",
       "      <td>-75</td>\n",
       "      <td>...</td>\n",
       "      <td>-75</td>\n",
       "      <td>-74</td>\n",
       "      <td>-61</td>\n",
       "      <td>-64</td>\n",
       "      <td>-63</td>\n",
       "      <td>-53</td>\n",
       "      <td>-63</td>\n",
       "      <td>B61</td>\n",
       "      <td>0</td>\n",
       "      <td>-61</td>\n",
       "    </tr>\n",
       "    <tr>\n",
       "      <th>2</th>\n",
       "      <td>-53</td>\n",
       "      <td>-38</td>\n",
       "      <td>-55</td>\n",
       "      <td>-66</td>\n",
       "      <td>-62</td>\n",
       "      <td>-62</td>\n",
       "      <td>-65</td>\n",
       "      <td>-70</td>\n",
       "      <td>-62</td>\n",
       "      <td>-52</td>\n",
       "      <td>...</td>\n",
       "      <td>-53</td>\n",
       "      <td>-66</td>\n",
       "      <td>-68</td>\n",
       "      <td>-72</td>\n",
       "      <td>-60</td>\n",
       "      <td>-68</td>\n",
       "      <td>-77</td>\n",
       "      <td>A19</td>\n",
       "      <td>1</td>\n",
       "      <td>19</td>\n",
       "    </tr>\n",
       "    <tr>\n",
       "      <th>3</th>\n",
       "      <td>-72</td>\n",
       "      <td>-62</td>\n",
       "      <td>-59</td>\n",
       "      <td>-65</td>\n",
       "      <td>-65</td>\n",
       "      <td>-65</td>\n",
       "      <td>-78</td>\n",
       "      <td>-82</td>\n",
       "      <td>-83</td>\n",
       "      <td>-59</td>\n",
       "      <td>...</td>\n",
       "      <td>-60</td>\n",
       "      <td>-64</td>\n",
       "      <td>-83</td>\n",
       "      <td>-69</td>\n",
       "      <td>-72</td>\n",
       "      <td>-95</td>\n",
       "      <td>-73</td>\n",
       "      <td>A22</td>\n",
       "      <td>1</td>\n",
       "      <td>22</td>\n",
       "    </tr>\n",
       "    <tr>\n",
       "      <th>4</th>\n",
       "      <td>-67</td>\n",
       "      <td>-69</td>\n",
       "      <td>-65</td>\n",
       "      <td>-63</td>\n",
       "      <td>-59</td>\n",
       "      <td>-53</td>\n",
       "      <td>-70</td>\n",
       "      <td>-72</td>\n",
       "      <td>-71</td>\n",
       "      <td>-60</td>\n",
       "      <td>...</td>\n",
       "      <td>-57</td>\n",
       "      <td>-54</td>\n",
       "      <td>-76</td>\n",
       "      <td>-61</td>\n",
       "      <td>-66</td>\n",
       "      <td>-71</td>\n",
       "      <td>-80</td>\n",
       "      <td>A33</td>\n",
       "      <td>1</td>\n",
       "      <td>33</td>\n",
       "    </tr>\n",
       "    <tr>\n",
       "      <th>...</th>\n",
       "      <td>...</td>\n",
       "      <td>...</td>\n",
       "      <td>...</td>\n",
       "      <td>...</td>\n",
       "      <td>...</td>\n",
       "      <td>...</td>\n",
       "      <td>...</td>\n",
       "      <td>...</td>\n",
       "      <td>...</td>\n",
       "      <td>...</td>\n",
       "      <td>...</td>\n",
       "      <td>...</td>\n",
       "      <td>...</td>\n",
       "      <td>...</td>\n",
       "      <td>...</td>\n",
       "      <td>...</td>\n",
       "      <td>...</td>\n",
       "      <td>...</td>\n",
       "      <td>...</td>\n",
       "      <td>...</td>\n",
       "      <td>...</td>\n",
       "    </tr>\n",
       "    <tr>\n",
       "      <th>36747</th>\n",
       "      <td>-68</td>\n",
       "      <td>-62</td>\n",
       "      <td>-64</td>\n",
       "      <td>-59</td>\n",
       "      <td>-59</td>\n",
       "      <td>-71</td>\n",
       "      <td>-67</td>\n",
       "      <td>-73</td>\n",
       "      <td>-73</td>\n",
       "      <td>-69</td>\n",
       "      <td>...</td>\n",
       "      <td>-75</td>\n",
       "      <td>-56</td>\n",
       "      <td>-68</td>\n",
       "      <td>-68</td>\n",
       "      <td>-75</td>\n",
       "      <td>-75</td>\n",
       "      <td>-95</td>\n",
       "      <td>B34</td>\n",
       "      <td>0</td>\n",
       "      <td>-34</td>\n",
       "    </tr>\n",
       "    <tr>\n",
       "      <th>36748</th>\n",
       "      <td>-56</td>\n",
       "      <td>-50</td>\n",
       "      <td>-57</td>\n",
       "      <td>-50</td>\n",
       "      <td>-59</td>\n",
       "      <td>-60</td>\n",
       "      <td>-62</td>\n",
       "      <td>-69</td>\n",
       "      <td>-58</td>\n",
       "      <td>-64</td>\n",
       "      <td>...</td>\n",
       "      <td>-61</td>\n",
       "      <td>-58</td>\n",
       "      <td>-56</td>\n",
       "      <td>-60</td>\n",
       "      <td>-58</td>\n",
       "      <td>-59</td>\n",
       "      <td>-64</td>\n",
       "      <td>B15</td>\n",
       "      <td>0</td>\n",
       "      <td>-15</td>\n",
       "    </tr>\n",
       "    <tr>\n",
       "      <th>36749</th>\n",
       "      <td>-42</td>\n",
       "      <td>-58</td>\n",
       "      <td>-72</td>\n",
       "      <td>-70</td>\n",
       "      <td>-75</td>\n",
       "      <td>-72</td>\n",
       "      <td>-76</td>\n",
       "      <td>-84</td>\n",
       "      <td>-84</td>\n",
       "      <td>-59</td>\n",
       "      <td>...</td>\n",
       "      <td>-68</td>\n",
       "      <td>-65</td>\n",
       "      <td>-81</td>\n",
       "      <td>-86</td>\n",
       "      <td>-70</td>\n",
       "      <td>-75</td>\n",
       "      <td>-74</td>\n",
       "      <td>A6</td>\n",
       "      <td>1</td>\n",
       "      <td>6</td>\n",
       "    </tr>\n",
       "    <tr>\n",
       "      <th>36750</th>\n",
       "      <td>-50</td>\n",
       "      <td>-50</td>\n",
       "      <td>-70</td>\n",
       "      <td>-64</td>\n",
       "      <td>-64</td>\n",
       "      <td>-68</td>\n",
       "      <td>-68</td>\n",
       "      <td>-73</td>\n",
       "      <td>-79</td>\n",
       "      <td>-58</td>\n",
       "      <td>...</td>\n",
       "      <td>-73</td>\n",
       "      <td>-67</td>\n",
       "      <td>-77</td>\n",
       "      <td>-73</td>\n",
       "      <td>-74</td>\n",
       "      <td>-72</td>\n",
       "      <td>-81</td>\n",
       "      <td>B2</td>\n",
       "      <td>0</td>\n",
       "      <td>-2</td>\n",
       "    </tr>\n",
       "    <tr>\n",
       "      <th>36751</th>\n",
       "      <td>-66</td>\n",
       "      <td>-64</td>\n",
       "      <td>-70</td>\n",
       "      <td>-62</td>\n",
       "      <td>-59</td>\n",
       "      <td>-62</td>\n",
       "      <td>-53</td>\n",
       "      <td>-58</td>\n",
       "      <td>-64</td>\n",
       "      <td>-80</td>\n",
       "      <td>...</td>\n",
       "      <td>-83</td>\n",
       "      <td>-67</td>\n",
       "      <td>-61</td>\n",
       "      <td>-56</td>\n",
       "      <td>-61</td>\n",
       "      <td>-67</td>\n",
       "      <td>-65</td>\n",
       "      <td>B45</td>\n",
       "      <td>0</td>\n",
       "      <td>-45</td>\n",
       "    </tr>\n",
       "  </tbody>\n",
       "</table>\n",
       "<p>36752 rows × 21 columns</p>\n",
       "</div>"
      ],
      "text/plain": [
       "       T1  T2  T3  T4  T5  T6  T7  T8  T9  T10  ...  T12  T13  T14  T15  T16  \\\n",
       "0     -70 -61 -66 -53 -51 -63 -82 -57 -76  -78  ...  -66  -61  -59  -73  -75   \n",
       "1     -77 -74 -71 -76 -65 -63 -66 -52 -55  -75  ...  -75  -74  -61  -64  -63   \n",
       "2     -53 -38 -55 -66 -62 -62 -65 -70 -62  -52  ...  -53  -66  -68  -72  -60   \n",
       "3     -72 -62 -59 -65 -65 -65 -78 -82 -83  -59  ...  -60  -64  -83  -69  -72   \n",
       "4     -67 -69 -65 -63 -59 -53 -70 -72 -71  -60  ...  -57  -54  -76  -61  -66   \n",
       "...    ..  ..  ..  ..  ..  ..  ..  ..  ..  ...  ...  ...  ...  ...  ...  ...   \n",
       "36747 -68 -62 -64 -59 -59 -71 -67 -73 -73  -69  ...  -75  -56  -68  -68  -75   \n",
       "36748 -56 -50 -57 -50 -59 -60 -62 -69 -58  -64  ...  -61  -58  -56  -60  -58   \n",
       "36749 -42 -58 -72 -70 -75 -72 -76 -84 -84  -59  ...  -68  -65  -81  -86  -70   \n",
       "36750 -50 -50 -70 -64 -64 -68 -68 -73 -79  -58  ...  -73  -67  -77  -73  -74   \n",
       "36751 -66 -64 -70 -62 -59 -62 -53 -58 -64  -80  ...  -83  -67  -61  -56  -61   \n",
       "\n",
       "       T17  T18  target B_target  int_target  \n",
       "0      -63  -77     B37        0         -37  \n",
       "1      -53  -63     B61        0         -61  \n",
       "2      -68  -77     A19        1          19  \n",
       "3      -95  -73     A22        1          22  \n",
       "4      -71  -80     A33        1          33  \n",
       "...    ...  ...     ...      ...         ...  \n",
       "36747  -75  -95     B34        0         -34  \n",
       "36748  -59  -64     B15        0         -15  \n",
       "36749  -75  -74      A6        1           6  \n",
       "36750  -72  -81      B2        0          -2  \n",
       "36751  -67  -65     B45        0         -45  \n",
       "\n",
       "[36752 rows x 21 columns]"
      ]
     },
     "execution_count": 43,
     "metadata": {},
     "output_type": "execute_result"
    }
   ],
   "source": [
    "New_train=pd.read_csv('/home/ganesh/Projects/ResoluteAI/Project2/Data/New_train.csv')\n",
    "New_train"
   ]
  },
  {
   "cell_type": "code",
   "execution_count": 44,
   "id": "8623fdb2",
   "metadata": {},
   "outputs": [],
   "source": [
    "X=New_train.drop(['target','B_target','int_target'],axis=1)\n",
    "Positive_X=X.apply(abs)\n",
    "Y_target=New_train['target']\n",
    "Y_B_target=New_train['B_target']\n",
    "Y_int_target=New_train['int_target']"
   ]
  },
  {
   "cell_type": "markdown",
   "id": "38875db5",
   "metadata": {},
   "source": [
    "## Y_target=New_train['target']"
   ]
  },
  {
   "cell_type": "code",
   "execution_count": 45,
   "id": "bdb34ced",
   "metadata": {},
   "outputs": [],
   "source": [
    "X_train, X_test, y_train, y_test = train_test_split(X,Y_target, test_size=0.30, random_state=42)"
   ]
  },
  {
   "cell_type": "code",
   "execution_count": 46,
   "id": "21156593",
   "metadata": {},
   "outputs": [
    {
     "data": {
      "text/html": [
       "<style>#sk-container-id-9 {color: black;}#sk-container-id-9 pre{padding: 0;}#sk-container-id-9 div.sk-toggleable {background-color: white;}#sk-container-id-9 label.sk-toggleable__label {cursor: pointer;display: block;width: 100%;margin-bottom: 0;padding: 0.3em;box-sizing: border-box;text-align: center;}#sk-container-id-9 label.sk-toggleable__label-arrow:before {content: \"▸\";float: left;margin-right: 0.25em;color: #696969;}#sk-container-id-9 label.sk-toggleable__label-arrow:hover:before {color: black;}#sk-container-id-9 div.sk-estimator:hover label.sk-toggleable__label-arrow:before {color: black;}#sk-container-id-9 div.sk-toggleable__content {max-height: 0;max-width: 0;overflow: hidden;text-align: left;background-color: #f0f8ff;}#sk-container-id-9 div.sk-toggleable__content pre {margin: 0.2em;color: black;border-radius: 0.25em;background-color: #f0f8ff;}#sk-container-id-9 input.sk-toggleable__control:checked~div.sk-toggleable__content {max-height: 200px;max-width: 100%;overflow: auto;}#sk-container-id-9 input.sk-toggleable__control:checked~label.sk-toggleable__label-arrow:before {content: \"▾\";}#sk-container-id-9 div.sk-estimator input.sk-toggleable__control:checked~label.sk-toggleable__label {background-color: #d4ebff;}#sk-container-id-9 div.sk-label input.sk-toggleable__control:checked~label.sk-toggleable__label {background-color: #d4ebff;}#sk-container-id-9 input.sk-hidden--visually {border: 0;clip: rect(1px 1px 1px 1px);clip: rect(1px, 1px, 1px, 1px);height: 1px;margin: -1px;overflow: hidden;padding: 0;position: absolute;width: 1px;}#sk-container-id-9 div.sk-estimator {font-family: monospace;background-color: #f0f8ff;border: 1px dotted black;border-radius: 0.25em;box-sizing: border-box;margin-bottom: 0.5em;}#sk-container-id-9 div.sk-estimator:hover {background-color: #d4ebff;}#sk-container-id-9 div.sk-parallel-item::after {content: \"\";width: 100%;border-bottom: 1px solid gray;flex-grow: 1;}#sk-container-id-9 div.sk-label:hover label.sk-toggleable__label {background-color: #d4ebff;}#sk-container-id-9 div.sk-serial::before {content: \"\";position: absolute;border-left: 1px solid gray;box-sizing: border-box;top: 0;bottom: 0;left: 50%;z-index: 0;}#sk-container-id-9 div.sk-serial {display: flex;flex-direction: column;align-items: center;background-color: white;padding-right: 0.2em;padding-left: 0.2em;position: relative;}#sk-container-id-9 div.sk-item {position: relative;z-index: 1;}#sk-container-id-9 div.sk-parallel {display: flex;align-items: stretch;justify-content: center;background-color: white;position: relative;}#sk-container-id-9 div.sk-item::before, #sk-container-id-9 div.sk-parallel-item::before {content: \"\";position: absolute;border-left: 1px solid gray;box-sizing: border-box;top: 0;bottom: 0;left: 50%;z-index: -1;}#sk-container-id-9 div.sk-parallel-item {display: flex;flex-direction: column;z-index: 1;position: relative;background-color: white;}#sk-container-id-9 div.sk-parallel-item:first-child::after {align-self: flex-end;width: 50%;}#sk-container-id-9 div.sk-parallel-item:last-child::after {align-self: flex-start;width: 50%;}#sk-container-id-9 div.sk-parallel-item:only-child::after {width: 0;}#sk-container-id-9 div.sk-dashed-wrapped {border: 1px dashed gray;margin: 0 0.4em 0.5em 0.4em;box-sizing: border-box;padding-bottom: 0.4em;background-color: white;}#sk-container-id-9 div.sk-label label {font-family: monospace;font-weight: bold;display: inline-block;line-height: 1.2em;}#sk-container-id-9 div.sk-label-container {text-align: center;}#sk-container-id-9 div.sk-container {/* jupyter's `normalize.less` sets `[hidden] { display: none; }` but bootstrap.min.css set `[hidden] { display: none !important; }` so we also need the `!important` here to be able to override the default hidden behavior on the sphinx rendered scikit-learn.org. See: https://github.com/scikit-learn/scikit-learn/issues/21755 */display: inline-block !important;position: relative;}#sk-container-id-9 div.sk-text-repr-fallback {display: none;}</style><div id=\"sk-container-id-9\" class=\"sk-top-container\"><div class=\"sk-text-repr-fallback\"><pre>RandomForestClassifier()</pre><b>In a Jupyter environment, please rerun this cell to show the HTML representation or trust the notebook. <br />On GitHub, the HTML representation is unable to render, please try loading this page with nbviewer.org.</b></div><div class=\"sk-container\" hidden><div class=\"sk-item\"><div class=\"sk-estimator sk-toggleable\"><input class=\"sk-toggleable__control sk-hidden--visually\" id=\"sk-estimator-id-9\" type=\"checkbox\" checked><label for=\"sk-estimator-id-9\" class=\"sk-toggleable__label sk-toggleable__label-arrow\">RandomForestClassifier</label><div class=\"sk-toggleable__content\"><pre>RandomForestClassifier()</pre></div></div></div></div></div>"
      ],
      "text/plain": [
       "RandomForestClassifier()"
      ]
     },
     "execution_count": 46,
     "metadata": {},
     "output_type": "execute_result"
    }
   ],
   "source": [
    "RFC=RandomForestClassifier()\n",
    "RFC.fit(X_train,y_train)"
   ]
  },
  {
   "cell_type": "markdown",
   "id": "a3ca8e5b",
   "metadata": {},
   "source": [
    "## Random Forest Classifier\n",
    "Here are some of the reasons why random forest is a good choice for classification:\n",
    "\n",
    "* It is a non-parametric algorithm, which means that it does not make any assumptions about the underlying distribution of the data.\n",
    "* It is robust to outliers.\n",
    "* It can handle high-dimensional data.\n",
    "* It is relatively easy to interpret.\n",
    "* It is computationally efficient.\n",
    "\n",
    "Here are some of the features of random forest:\n",
    "\n",
    "* It is a collection of decision trees.\n",
    "* Each tree is built using a random subset of the data.\n",
    "* The trees are then combined using a voting scheme.\n",
    "* The random forest algorithm is able to learn from the mistakes of individual trees.\n",
    "* This makes it more robust to overfitting than other classification algorithms.\n",
    "\n",
    "Random forest is a powerful and versatile algorithm that can be used to solve a variety of problems. It is a good choice for classification when you need an algorithm that is robust to outliers, can handle high-dimensional data, and is relatively easy to interpret"
   ]
  },
  {
   "cell_type": "code",
   "execution_count": 47,
   "id": "df915a62",
   "metadata": {},
   "outputs": [
    {
     "data": {
      "text/html": [
       "<style>#sk-container-id-10 {color: black;}#sk-container-id-10 pre{padding: 0;}#sk-container-id-10 div.sk-toggleable {background-color: white;}#sk-container-id-10 label.sk-toggleable__label {cursor: pointer;display: block;width: 100%;margin-bottom: 0;padding: 0.3em;box-sizing: border-box;text-align: center;}#sk-container-id-10 label.sk-toggleable__label-arrow:before {content: \"▸\";float: left;margin-right: 0.25em;color: #696969;}#sk-container-id-10 label.sk-toggleable__label-arrow:hover:before {color: black;}#sk-container-id-10 div.sk-estimator:hover label.sk-toggleable__label-arrow:before {color: black;}#sk-container-id-10 div.sk-toggleable__content {max-height: 0;max-width: 0;overflow: hidden;text-align: left;background-color: #f0f8ff;}#sk-container-id-10 div.sk-toggleable__content pre {margin: 0.2em;color: black;border-radius: 0.25em;background-color: #f0f8ff;}#sk-container-id-10 input.sk-toggleable__control:checked~div.sk-toggleable__content {max-height: 200px;max-width: 100%;overflow: auto;}#sk-container-id-10 input.sk-toggleable__control:checked~label.sk-toggleable__label-arrow:before {content: \"▾\";}#sk-container-id-10 div.sk-estimator input.sk-toggleable__control:checked~label.sk-toggleable__label {background-color: #d4ebff;}#sk-container-id-10 div.sk-label input.sk-toggleable__control:checked~label.sk-toggleable__label {background-color: #d4ebff;}#sk-container-id-10 input.sk-hidden--visually {border: 0;clip: rect(1px 1px 1px 1px);clip: rect(1px, 1px, 1px, 1px);height: 1px;margin: -1px;overflow: hidden;padding: 0;position: absolute;width: 1px;}#sk-container-id-10 div.sk-estimator {font-family: monospace;background-color: #f0f8ff;border: 1px dotted black;border-radius: 0.25em;box-sizing: border-box;margin-bottom: 0.5em;}#sk-container-id-10 div.sk-estimator:hover {background-color: #d4ebff;}#sk-container-id-10 div.sk-parallel-item::after {content: \"\";width: 100%;border-bottom: 1px solid gray;flex-grow: 1;}#sk-container-id-10 div.sk-label:hover label.sk-toggleable__label {background-color: #d4ebff;}#sk-container-id-10 div.sk-serial::before {content: \"\";position: absolute;border-left: 1px solid gray;box-sizing: border-box;top: 0;bottom: 0;left: 50%;z-index: 0;}#sk-container-id-10 div.sk-serial {display: flex;flex-direction: column;align-items: center;background-color: white;padding-right: 0.2em;padding-left: 0.2em;position: relative;}#sk-container-id-10 div.sk-item {position: relative;z-index: 1;}#sk-container-id-10 div.sk-parallel {display: flex;align-items: stretch;justify-content: center;background-color: white;position: relative;}#sk-container-id-10 div.sk-item::before, #sk-container-id-10 div.sk-parallel-item::before {content: \"\";position: absolute;border-left: 1px solid gray;box-sizing: border-box;top: 0;bottom: 0;left: 50%;z-index: -1;}#sk-container-id-10 div.sk-parallel-item {display: flex;flex-direction: column;z-index: 1;position: relative;background-color: white;}#sk-container-id-10 div.sk-parallel-item:first-child::after {align-self: flex-end;width: 50%;}#sk-container-id-10 div.sk-parallel-item:last-child::after {align-self: flex-start;width: 50%;}#sk-container-id-10 div.sk-parallel-item:only-child::after {width: 0;}#sk-container-id-10 div.sk-dashed-wrapped {border: 1px dashed gray;margin: 0 0.4em 0.5em 0.4em;box-sizing: border-box;padding-bottom: 0.4em;background-color: white;}#sk-container-id-10 div.sk-label label {font-family: monospace;font-weight: bold;display: inline-block;line-height: 1.2em;}#sk-container-id-10 div.sk-label-container {text-align: center;}#sk-container-id-10 div.sk-container {/* jupyter's `normalize.less` sets `[hidden] { display: none; }` but bootstrap.min.css set `[hidden] { display: none !important; }` so we also need the `!important` here to be able to override the default hidden behavior on the sphinx rendered scikit-learn.org. See: https://github.com/scikit-learn/scikit-learn/issues/21755 */display: inline-block !important;position: relative;}#sk-container-id-10 div.sk-text-repr-fallback {display: none;}</style><div id=\"sk-container-id-10\" class=\"sk-top-container\"><div class=\"sk-text-repr-fallback\"><pre>GaussianNB()</pre><b>In a Jupyter environment, please rerun this cell to show the HTML representation or trust the notebook. <br />On GitHub, the HTML representation is unable to render, please try loading this page with nbviewer.org.</b></div><div class=\"sk-container\" hidden><div class=\"sk-item\"><div class=\"sk-estimator sk-toggleable\"><input class=\"sk-toggleable__control sk-hidden--visually\" id=\"sk-estimator-id-10\" type=\"checkbox\" checked><label for=\"sk-estimator-id-10\" class=\"sk-toggleable__label sk-toggleable__label-arrow\">GaussianNB</label><div class=\"sk-toggleable__content\"><pre>GaussianNB()</pre></div></div></div></div></div>"
      ],
      "text/plain": [
       "GaussianNB()"
      ]
     },
     "execution_count": 47,
     "metadata": {},
     "output_type": "execute_result"
    }
   ],
   "source": [
    "GNB=GaussianNB()\n",
    "GNB.fit(X_train,y_train)"
   ]
  },
  {
   "cell_type": "markdown",
   "id": "65e8fa28",
   "metadata": {},
   "source": [
    "## Naive Bayes Classifier\n",
    "The naive Bayes classifier is also very efficient, which makes it a good choice for large datasets.\n",
    "\n",
    "Here are some of the features of the naive Bayes classifier:\n",
    "\n",
    "* It is a simple probabilistic classifier based on Bayes' theorem.\n",
    "* It assumes that the features are independent.\n",
    "* It is very efficient.\n",
    "* It is easy to understand and implement.\n",
    "* It is not very accurate for complex datasets.\n",
    "* It can be sensitive to outliers."
   ]
  },
  {
   "cell_type": "code",
   "execution_count": 48,
   "id": "67fb2c42",
   "metadata": {},
   "outputs": [
    {
     "data": {
      "text/html": [
       "<style>#sk-container-id-11 {color: black;}#sk-container-id-11 pre{padding: 0;}#sk-container-id-11 div.sk-toggleable {background-color: white;}#sk-container-id-11 label.sk-toggleable__label {cursor: pointer;display: block;width: 100%;margin-bottom: 0;padding: 0.3em;box-sizing: border-box;text-align: center;}#sk-container-id-11 label.sk-toggleable__label-arrow:before {content: \"▸\";float: left;margin-right: 0.25em;color: #696969;}#sk-container-id-11 label.sk-toggleable__label-arrow:hover:before {color: black;}#sk-container-id-11 div.sk-estimator:hover label.sk-toggleable__label-arrow:before {color: black;}#sk-container-id-11 div.sk-toggleable__content {max-height: 0;max-width: 0;overflow: hidden;text-align: left;background-color: #f0f8ff;}#sk-container-id-11 div.sk-toggleable__content pre {margin: 0.2em;color: black;border-radius: 0.25em;background-color: #f0f8ff;}#sk-container-id-11 input.sk-toggleable__control:checked~div.sk-toggleable__content {max-height: 200px;max-width: 100%;overflow: auto;}#sk-container-id-11 input.sk-toggleable__control:checked~label.sk-toggleable__label-arrow:before {content: \"▾\";}#sk-container-id-11 div.sk-estimator input.sk-toggleable__control:checked~label.sk-toggleable__label {background-color: #d4ebff;}#sk-container-id-11 div.sk-label input.sk-toggleable__control:checked~label.sk-toggleable__label {background-color: #d4ebff;}#sk-container-id-11 input.sk-hidden--visually {border: 0;clip: rect(1px 1px 1px 1px);clip: rect(1px, 1px, 1px, 1px);height: 1px;margin: -1px;overflow: hidden;padding: 0;position: absolute;width: 1px;}#sk-container-id-11 div.sk-estimator {font-family: monospace;background-color: #f0f8ff;border: 1px dotted black;border-radius: 0.25em;box-sizing: border-box;margin-bottom: 0.5em;}#sk-container-id-11 div.sk-estimator:hover {background-color: #d4ebff;}#sk-container-id-11 div.sk-parallel-item::after {content: \"\";width: 100%;border-bottom: 1px solid gray;flex-grow: 1;}#sk-container-id-11 div.sk-label:hover label.sk-toggleable__label {background-color: #d4ebff;}#sk-container-id-11 div.sk-serial::before {content: \"\";position: absolute;border-left: 1px solid gray;box-sizing: border-box;top: 0;bottom: 0;left: 50%;z-index: 0;}#sk-container-id-11 div.sk-serial {display: flex;flex-direction: column;align-items: center;background-color: white;padding-right: 0.2em;padding-left: 0.2em;position: relative;}#sk-container-id-11 div.sk-item {position: relative;z-index: 1;}#sk-container-id-11 div.sk-parallel {display: flex;align-items: stretch;justify-content: center;background-color: white;position: relative;}#sk-container-id-11 div.sk-item::before, #sk-container-id-11 div.sk-parallel-item::before {content: \"\";position: absolute;border-left: 1px solid gray;box-sizing: border-box;top: 0;bottom: 0;left: 50%;z-index: -1;}#sk-container-id-11 div.sk-parallel-item {display: flex;flex-direction: column;z-index: 1;position: relative;background-color: white;}#sk-container-id-11 div.sk-parallel-item:first-child::after {align-self: flex-end;width: 50%;}#sk-container-id-11 div.sk-parallel-item:last-child::after {align-self: flex-start;width: 50%;}#sk-container-id-11 div.sk-parallel-item:only-child::after {width: 0;}#sk-container-id-11 div.sk-dashed-wrapped {border: 1px dashed gray;margin: 0 0.4em 0.5em 0.4em;box-sizing: border-box;padding-bottom: 0.4em;background-color: white;}#sk-container-id-11 div.sk-label label {font-family: monospace;font-weight: bold;display: inline-block;line-height: 1.2em;}#sk-container-id-11 div.sk-label-container {text-align: center;}#sk-container-id-11 div.sk-container {/* jupyter's `normalize.less` sets `[hidden] { display: none; }` but bootstrap.min.css set `[hidden] { display: none !important; }` so we also need the `!important` here to be able to override the default hidden behavior on the sphinx rendered scikit-learn.org. See: https://github.com/scikit-learn/scikit-learn/issues/21755 */display: inline-block !important;position: relative;}#sk-container-id-11 div.sk-text-repr-fallback {display: none;}</style><div id=\"sk-container-id-11\" class=\"sk-top-container\"><div class=\"sk-text-repr-fallback\"><pre>DecisionTreeClassifier()</pre><b>In a Jupyter environment, please rerun this cell to show the HTML representation or trust the notebook. <br />On GitHub, the HTML representation is unable to render, please try loading this page with nbviewer.org.</b></div><div class=\"sk-container\" hidden><div class=\"sk-item\"><div class=\"sk-estimator sk-toggleable\"><input class=\"sk-toggleable__control sk-hidden--visually\" id=\"sk-estimator-id-11\" type=\"checkbox\" checked><label for=\"sk-estimator-id-11\" class=\"sk-toggleable__label sk-toggleable__label-arrow\">DecisionTreeClassifier</label><div class=\"sk-toggleable__content\"><pre>DecisionTreeClassifier()</pre></div></div></div></div></div>"
      ],
      "text/plain": [
       "DecisionTreeClassifier()"
      ]
     },
     "execution_count": 48,
     "metadata": {},
     "output_type": "execute_result"
    }
   ],
   "source": [
    "Dtree=tree.DecisionTreeClassifier()\n",
    "Dtree.fit(X_train,y_train)"
   ]
  },
  {
   "cell_type": "markdown",
   "id": "3f7c37ba",
   "metadata": {},
   "source": [
    "## Decision Tree Classifier\n",
    "\n",
    "Here are some of the features of decision trees:\n",
    "\n",
    "* Easy to understand and interpret: Decision trees are a relatively simple algorithm, and they can be easily understood by humans. This makes them a good choice for tasks where interpretability is important, such as medical diagnosis or fraud detection.\n",
    "* Can handle both continuous and categorical data: Decision trees can be used to handle both continuous and categorical data. This makes them a versatile algorithm that can be applied to a wide range of problems.\n",
    "* Robust to noise in the data: Decision trees are relatively robust to noise in the data. This means that they can still perform well even if the data is not perfect.\n",
    "* Can be easily parallelized: Decision trees can be easily parallelized, which makes them a good choice for large datasets.\n",
    "\n",
    "However, decision trees also have some limitations:\n",
    "\n",
    "* Can be overfitting: Decision trees can be prone to overfitting, which means that they can learn the training data too well and not generalize well to new data.\n",
    "* Can be computationally expensive: Decision trees can be computationally expensive to train, especially for large datasets.\n",
    "* Can be difficult to tune: Decision trees can be difficult to tune, and it can be difficult to find the best parameters for a given problem."
   ]
  },
  {
   "cell_type": "code",
   "execution_count": 49,
   "id": "c3f7a88e",
   "metadata": {},
   "outputs": [],
   "source": [
    "y_pred_gnb=GNB.predict(X_test)\n",
    "y_pred_Dtree=Dtree.predict(X_test)\n",
    "y_pred_RFC=RFC.predict(X_test)"
   ]
  },
  {
   "cell_type": "code",
   "execution_count": 50,
   "id": "8c9f4bf9",
   "metadata": {},
   "outputs": [],
   "source": [
    "from sklearn.metrics import accuracy_score\n",
    "from sklearn.metrics import confusion_matrix"
   ]
  },
  {
   "cell_type": "code",
   "execution_count": 51,
   "id": "9b1a96a5",
   "metadata": {},
   "outputs": [],
   "source": [
    "A_score_gnb=accuracy_score(y_test,y_pred_gnb)\n",
    "A_score_Dtree=accuracy_score(y_test,y_pred_Dtree)\n",
    "A_score_RFC=accuracy_score(y_test,y_pred_RFC)"
   ]
  },
  {
   "cell_type": "code",
   "execution_count": 52,
   "id": "00e36b9e",
   "metadata": {},
   "outputs": [],
   "source": [
    "confusion_matrix_gnb=confusion_matrix(y_test,y_pred_gnb)\n",
    "confusion_matrix_Dtree=confusion_matrix(y_test,y_pred_Dtree)\n",
    "confusion_matrix_RFC=confusion_matrix(y_test,y_pred_RFC)"
   ]
  },
  {
   "cell_type": "code",
   "execution_count": 53,
   "id": "45734966",
   "metadata": {},
   "outputs": [
    {
     "data": {
      "text/plain": [
       "0.957917649192817"
      ]
     },
     "execution_count": 53,
     "metadata": {},
     "output_type": "execute_result"
    }
   ],
   "source": [
    "A_score_gnb"
   ]
  },
  {
   "cell_type": "code",
   "execution_count": 54,
   "id": "65859f15",
   "metadata": {},
   "outputs": [
    {
     "data": {
      "text/plain": [
       "0.9645383638672229"
      ]
     },
     "execution_count": 54,
     "metadata": {},
     "output_type": "execute_result"
    }
   ],
   "source": [
    "A_score_Dtree"
   ]
  },
  {
   "cell_type": "code",
   "execution_count": 55,
   "id": "c0ac33fd",
   "metadata": {},
   "outputs": [
    {
     "data": {
      "text/plain": [
       "0.9866678759296209"
      ]
     },
     "execution_count": 55,
     "metadata": {},
     "output_type": "execute_result"
    }
   ],
   "source": [
    "A_score_RFC"
   ]
  },
  {
   "cell_type": "markdown",
   "id": "89006ec1",
   "metadata": {},
   "source": [
    "## Random Forest Classifier : 98.65 Persent  Accuracy"
   ]
  },
  {
   "cell_type": "code",
   "execution_count": 15,
   "id": "4a8fba99",
   "metadata": {},
   "outputs": [],
   "source": [
    "#confusion_matrix_gnb"
   ]
  },
  {
   "cell_type": "code",
   "execution_count": 16,
   "id": "b16f66f3",
   "metadata": {},
   "outputs": [],
   "source": [
    "#confusion_matrix_Dtree"
   ]
  },
  {
   "cell_type": "code",
   "execution_count": 17,
   "id": "9d6cabea",
   "metadata": {},
   "outputs": [],
   "source": [
    "#confusion_matrix_RFC"
   ]
  },
  {
   "cell_type": "markdown",
   "id": "913680db",
   "metadata": {},
   "source": [
    "## Y_int_target=New_train['int_target']"
   ]
  },
  {
   "cell_type": "code",
   "execution_count": 18,
   "id": "b9fe5fe2",
   "metadata": {},
   "outputs": [],
   "source": [
    "X_train, X_test, y_train, y_test = train_test_split(Positive_X,Y_int_target, test_size=0.30, random_state=42)"
   ]
  },
  {
   "cell_type": "code",
   "execution_count": 19,
   "id": "472cf6ef",
   "metadata": {},
   "outputs": [
    {
     "data": {
      "text/html": [
       "<style>#sk-container-id-4 {color: black;}#sk-container-id-4 pre{padding: 0;}#sk-container-id-4 div.sk-toggleable {background-color: white;}#sk-container-id-4 label.sk-toggleable__label {cursor: pointer;display: block;width: 100%;margin-bottom: 0;padding: 0.3em;box-sizing: border-box;text-align: center;}#sk-container-id-4 label.sk-toggleable__label-arrow:before {content: \"▸\";float: left;margin-right: 0.25em;color: #696969;}#sk-container-id-4 label.sk-toggleable__label-arrow:hover:before {color: black;}#sk-container-id-4 div.sk-estimator:hover label.sk-toggleable__label-arrow:before {color: black;}#sk-container-id-4 div.sk-toggleable__content {max-height: 0;max-width: 0;overflow: hidden;text-align: left;background-color: #f0f8ff;}#sk-container-id-4 div.sk-toggleable__content pre {margin: 0.2em;color: black;border-radius: 0.25em;background-color: #f0f8ff;}#sk-container-id-4 input.sk-toggleable__control:checked~div.sk-toggleable__content {max-height: 200px;max-width: 100%;overflow: auto;}#sk-container-id-4 input.sk-toggleable__control:checked~label.sk-toggleable__label-arrow:before {content: \"▾\";}#sk-container-id-4 div.sk-estimator input.sk-toggleable__control:checked~label.sk-toggleable__label {background-color: #d4ebff;}#sk-container-id-4 div.sk-label input.sk-toggleable__control:checked~label.sk-toggleable__label {background-color: #d4ebff;}#sk-container-id-4 input.sk-hidden--visually {border: 0;clip: rect(1px 1px 1px 1px);clip: rect(1px, 1px, 1px, 1px);height: 1px;margin: -1px;overflow: hidden;padding: 0;position: absolute;width: 1px;}#sk-container-id-4 div.sk-estimator {font-family: monospace;background-color: #f0f8ff;border: 1px dotted black;border-radius: 0.25em;box-sizing: border-box;margin-bottom: 0.5em;}#sk-container-id-4 div.sk-estimator:hover {background-color: #d4ebff;}#sk-container-id-4 div.sk-parallel-item::after {content: \"\";width: 100%;border-bottom: 1px solid gray;flex-grow: 1;}#sk-container-id-4 div.sk-label:hover label.sk-toggleable__label {background-color: #d4ebff;}#sk-container-id-4 div.sk-serial::before {content: \"\";position: absolute;border-left: 1px solid gray;box-sizing: border-box;top: 0;bottom: 0;left: 50%;z-index: 0;}#sk-container-id-4 div.sk-serial {display: flex;flex-direction: column;align-items: center;background-color: white;padding-right: 0.2em;padding-left: 0.2em;position: relative;}#sk-container-id-4 div.sk-item {position: relative;z-index: 1;}#sk-container-id-4 div.sk-parallel {display: flex;align-items: stretch;justify-content: center;background-color: white;position: relative;}#sk-container-id-4 div.sk-item::before, #sk-container-id-4 div.sk-parallel-item::before {content: \"\";position: absolute;border-left: 1px solid gray;box-sizing: border-box;top: 0;bottom: 0;left: 50%;z-index: -1;}#sk-container-id-4 div.sk-parallel-item {display: flex;flex-direction: column;z-index: 1;position: relative;background-color: white;}#sk-container-id-4 div.sk-parallel-item:first-child::after {align-self: flex-end;width: 50%;}#sk-container-id-4 div.sk-parallel-item:last-child::after {align-self: flex-start;width: 50%;}#sk-container-id-4 div.sk-parallel-item:only-child::after {width: 0;}#sk-container-id-4 div.sk-dashed-wrapped {border: 1px dashed gray;margin: 0 0.4em 0.5em 0.4em;box-sizing: border-box;padding-bottom: 0.4em;background-color: white;}#sk-container-id-4 div.sk-label label {font-family: monospace;font-weight: bold;display: inline-block;line-height: 1.2em;}#sk-container-id-4 div.sk-label-container {text-align: center;}#sk-container-id-4 div.sk-container {/* jupyter's `normalize.less` sets `[hidden] { display: none; }` but bootstrap.min.css set `[hidden] { display: none !important; }` so we also need the `!important` here to be able to override the default hidden behavior on the sphinx rendered scikit-learn.org. See: https://github.com/scikit-learn/scikit-learn/issues/21755 */display: inline-block !important;position: relative;}#sk-container-id-4 div.sk-text-repr-fallback {display: none;}</style><div id=\"sk-container-id-4\" class=\"sk-top-container\"><div class=\"sk-text-repr-fallback\"><pre>RandomForestClassifier()</pre><b>In a Jupyter environment, please rerun this cell to show the HTML representation or trust the notebook. <br />On GitHub, the HTML representation is unable to render, please try loading this page with nbviewer.org.</b></div><div class=\"sk-container\" hidden><div class=\"sk-item\"><div class=\"sk-estimator sk-toggleable\"><input class=\"sk-toggleable__control sk-hidden--visually\" id=\"sk-estimator-id-4\" type=\"checkbox\" checked><label for=\"sk-estimator-id-4\" class=\"sk-toggleable__label sk-toggleable__label-arrow\">RandomForestClassifier</label><div class=\"sk-toggleable__content\"><pre>RandomForestClassifier()</pre></div></div></div></div></div>"
      ],
      "text/plain": [
       "RandomForestClassifier()"
      ]
     },
     "execution_count": 19,
     "metadata": {},
     "output_type": "execute_result"
    }
   ],
   "source": [
    "GNB=GaussianNB()\n",
    "Dtree=tree.DecisionTreeClassifier()\n",
    "RFC=RandomForestClassifier()\n",
    "\n",
    "GNB.fit(X_train,y_train)\n",
    "Dtree.fit(X_train,y_train)\n",
    "RFC.fit(X_train,y_train)"
   ]
  },
  {
   "cell_type": "code",
   "execution_count": 20,
   "id": "2966eac5",
   "metadata": {},
   "outputs": [],
   "source": [
    "y_pred_gnb=GNB.predict(X_test)\n",
    "y_pred_Dtree=Dtree.predict(X_test)\n",
    "y_pred_RFC=RFC.predict(X_test)"
   ]
  },
  {
   "cell_type": "code",
   "execution_count": 21,
   "id": "6a436586",
   "metadata": {},
   "outputs": [],
   "source": [
    "from sklearn.metrics import accuracy_score\n",
    "from sklearn.metrics import confusion_matrix"
   ]
  },
  {
   "cell_type": "code",
   "execution_count": 22,
   "id": "3f7e6775",
   "metadata": {},
   "outputs": [],
   "source": [
    "A_score_gnb=accuracy_score(y_test,y_pred_gnb)\n",
    "A_score_Dtree=accuracy_score(y_test,y_pred_Dtree)\n",
    "A_score_RFC=accuracy_score(y_test,y_pred_RFC)"
   ]
  },
  {
   "cell_type": "code",
   "execution_count": 23,
   "id": "eaa13967",
   "metadata": {},
   "outputs": [],
   "source": [
    "confusion_matrix_gnb=confusion_matrix(y_test,y_pred_gnb)\n",
    "confusion_matrix_Dtree=confusion_matrix(y_test,y_pred_Dtree)\n",
    "confusion_matrix_RFC=confusion_matrix(y_test,y_pred_RFC)"
   ]
  },
  {
   "cell_type": "code",
   "execution_count": 24,
   "id": "5c8fa238",
   "metadata": {},
   "outputs": [
    {
     "data": {
      "text/plain": [
       "0.957917649192817"
      ]
     },
     "execution_count": 24,
     "metadata": {},
     "output_type": "execute_result"
    }
   ],
   "source": [
    "A_score_gnb"
   ]
  },
  {
   "cell_type": "code",
   "execution_count": 25,
   "id": "385fcda0",
   "metadata": {},
   "outputs": [
    {
     "data": {
      "text/plain": [
       "0.9628151641574461"
      ]
     },
     "execution_count": 25,
     "metadata": {},
     "output_type": "execute_result"
    }
   ],
   "source": [
    "A_score_Dtree"
   ]
  },
  {
   "cell_type": "code",
   "execution_count": 26,
   "id": "373987fc",
   "metadata": {},
   "outputs": [
    {
     "data": {
      "text/plain": [
       "0.9861237076002176"
      ]
     },
     "execution_count": 26,
     "metadata": {},
     "output_type": "execute_result"
    }
   ],
   "source": [
    "A_score_RFC"
   ]
  },
  {
   "cell_type": "code",
   "execution_count": 27,
   "id": "88370258",
   "metadata": {},
   "outputs": [],
   "source": [
    "#confusion_matrix_gnb"
   ]
  },
  {
   "cell_type": "code",
   "execution_count": 28,
   "id": "d8d56d60",
   "metadata": {},
   "outputs": [],
   "source": [
    "#confusion_matrix_Dtree"
   ]
  },
  {
   "cell_type": "code",
   "execution_count": 29,
   "id": "e97cec99",
   "metadata": {},
   "outputs": [
    {
     "data": {
      "text/plain": [
       "array([[59,  0,  0, ...,  0,  0,  0],\n",
       "       [ 0, 58,  0, ...,  0,  0,  0],\n",
       "       [ 0,  0, 66, ...,  0,  0,  0],\n",
       "       ...,\n",
       "       [ 0,  0,  0, ..., 70,  0,  0],\n",
       "       [ 0,  0,  0, ...,  0, 63,  0],\n",
       "       [ 0,  0,  0, ...,  0,  0, 62]])"
      ]
     },
     "execution_count": 29,
     "metadata": {},
     "output_type": "execute_result"
    }
   ],
   "source": [
    "confusion_matrix_RFC"
   ]
  },
  {
   "cell_type": "code",
   "execution_count": 30,
   "id": "d48d5483",
   "metadata": {},
   "outputs": [
    {
     "data": {
      "text/plain": [
       "<Axes: >"
      ]
     },
     "execution_count": 30,
     "metadata": {},
     "output_type": "execute_result"
    },
    {
     "data": {
      "image/png": "[encoded data removed]",
      "text/plain": [
       "<Figure size 640x480 with 2 Axes>"
      ]
     },
     "metadata": {},
     "output_type": "display_data"
    }
   ],
   "source": [
    "sns.heatmap(confusion_matrix_RFC)"
   ]
  },
  {
   "cell_type": "code",
   "execution_count": 32,
   "id": "d2421474",
   "metadata": {},
   "outputs": [
    {
     "data": {
      "text/plain": [
       "['../../Project2/Models/Dtree.pkl']"
      ]
     },
     "execution_count": 32,
     "metadata": {},
     "output_type": "execute_result"
    }
   ],
   "source": [
    "import joblib\n",
    "\n",
    "joblib.dump(RFC,filename='../../Project2/Models/RFC.pkl')\n",
    "joblib.dump(GNB,filename='../../Project2/Models/GNB.pkl')\n",
    "joblib.dump(Dtree,filename='../../Project2/Models/Dtree.pkl')"
   ]
  },
  {
   "cell_type": "code",
   "execution_count": 33,
   "id": "f61c7b52",
   "metadata": {},
   "outputs": [
    {
     "data": {
      "text/html": [
       "<style>#sk-container-id-8 {color: black;}#sk-container-id-8 pre{padding: 0;}#sk-container-id-8 div.sk-toggleable {background-color: white;}#sk-container-id-8 label.sk-toggleable__label {cursor: pointer;display: block;width: 100%;margin-bottom: 0;padding: 0.3em;box-sizing: border-box;text-align: center;}#sk-container-id-8 label.sk-toggleable__label-arrow:before {content: \"▸\";float: left;margin-right: 0.25em;color: #696969;}#sk-container-id-8 label.sk-toggleable__label-arrow:hover:before {color: black;}#sk-container-id-8 div.sk-estimator:hover label.sk-toggleable__label-arrow:before {color: black;}#sk-container-id-8 div.sk-toggleable__content {max-height: 0;max-width: 0;overflow: hidden;text-align: left;background-color: #f0f8ff;}#sk-container-id-8 div.sk-toggleable__content pre {margin: 0.2em;color: black;border-radius: 0.25em;background-color: #f0f8ff;}#sk-container-id-8 input.sk-toggleable__control:checked~div.sk-toggleable__content {max-height: 200px;max-width: 100%;overflow: auto;}#sk-container-id-8 input.sk-toggleable__control:checked~label.sk-toggleable__label-arrow:before {content: \"▾\";}#sk-container-id-8 div.sk-estimator input.sk-toggleable__control:checked~label.sk-toggleable__label {background-color: #d4ebff;}#sk-container-id-8 div.sk-label input.sk-toggleable__control:checked~label.sk-toggleable__label {background-color: #d4ebff;}#sk-container-id-8 input.sk-hidden--visually {border: 0;clip: rect(1px 1px 1px 1px);clip: rect(1px, 1px, 1px, 1px);height: 1px;margin: -1px;overflow: hidden;padding: 0;position: absolute;width: 1px;}#sk-container-id-8 div.sk-estimator {font-family: monospace;background-color: #f0f8ff;border: 1px dotted black;border-radius: 0.25em;box-sizing: border-box;margin-bottom: 0.5em;}#sk-container-id-8 div.sk-estimator:hover {background-color: #d4ebff;}#sk-container-id-8 div.sk-parallel-item::after {content: \"\";width: 100%;border-bottom: 1px solid gray;flex-grow: 1;}#sk-container-id-8 div.sk-label:hover label.sk-toggleable__label {background-color: #d4ebff;}#sk-container-id-8 div.sk-serial::before {content: \"\";position: absolute;border-left: 1px solid gray;box-sizing: border-box;top: 0;bottom: 0;left: 50%;z-index: 0;}#sk-container-id-8 div.sk-serial {display: flex;flex-direction: column;align-items: center;background-color: white;padding-right: 0.2em;padding-left: 0.2em;position: relative;}#sk-container-id-8 div.sk-item {position: relative;z-index: 1;}#sk-container-id-8 div.sk-parallel {display: flex;align-items: stretch;justify-content: center;background-color: white;position: relative;}#sk-container-id-8 div.sk-item::before, #sk-container-id-8 div.sk-parallel-item::before {content: \"\";position: absolute;border-left: 1px solid gray;box-sizing: border-box;top: 0;bottom: 0;left: 50%;z-index: -1;}#sk-container-id-8 div.sk-parallel-item {display: flex;flex-direction: column;z-index: 1;position: relative;background-color: white;}#sk-container-id-8 div.sk-parallel-item:first-child::after {align-self: flex-end;width: 50%;}#sk-container-id-8 div.sk-parallel-item:last-child::after {align-self: flex-start;width: 50%;}#sk-container-id-8 div.sk-parallel-item:only-child::after {width: 0;}#sk-container-id-8 div.sk-dashed-wrapped {border: 1px dashed gray;margin: 0 0.4em 0.5em 0.4em;box-sizing: border-box;padding-bottom: 0.4em;background-color: white;}#sk-container-id-8 div.sk-label label {font-family: monospace;font-weight: bold;display: inline-block;line-height: 1.2em;}#sk-container-id-8 div.sk-label-container {text-align: center;}#sk-container-id-8 div.sk-container {/* jupyter's `normalize.less` sets `[hidden] { display: none; }` but bootstrap.min.css set `[hidden] { display: none !important; }` so we also need the `!important` here to be able to override the default hidden behavior on the sphinx rendered scikit-learn.org. See: https://github.com/scikit-learn/scikit-learn/issues/21755 */display: inline-block !important;position: relative;}#sk-container-id-8 div.sk-text-repr-fallback {display: none;}</style><div id=\"sk-container-id-8\" class=\"sk-top-container\"><div class=\"sk-text-repr-fallback\"><pre>RandomForestClassifier()</pre><b>In a Jupyter environment, please rerun this cell to show the HTML representation or trust the notebook. <br />On GitHub, the HTML representation is unable to render, please try loading this page with nbviewer.org.</b></div><div class=\"sk-container\" hidden><div class=\"sk-item\"><div class=\"sk-estimator sk-toggleable\"><input class=\"sk-toggleable__control sk-hidden--visually\" id=\"sk-estimator-id-8\" type=\"checkbox\" checked><label for=\"sk-estimator-id-8\" class=\"sk-toggleable__label sk-toggleable__label-arrow\">RandomForestClassifier</label><div class=\"sk-toggleable__content\"><pre>RandomForestClassifier()</pre></div></div></div></div></div>"
      ],
      "text/plain": [
       "RandomForestClassifier()"
      ]
     },
     "execution_count": 33,
     "metadata": {},
     "output_type": "execute_result"
    }
   ],
   "source": [
    "Load_RFC=joblib.load('../../Project2/Models/RFC.pkl')\n",
    "Load_RFC"
   ]
  },
  {
   "cell_type": "code",
   "execution_count": 34,
   "id": "14848814",
   "metadata": {},
   "outputs": [
    {
     "data": {
      "text/html": [
       "<div>\n",
       "<style scoped>\n",
       "    .dataframe tbody tr th:only-of-type {\n",
       "        vertical-align: middle;\n",
       "    }\n",
       "\n",
       "    .dataframe tbody tr th {\n",
       "        vertical-align: top;\n",
       "    }\n",
       "\n",
       "    .dataframe thead th {\n",
       "        text-align: right;\n",
       "    }\n",
       "</style>\n",
       "<table border=\"1\" class=\"dataframe\">\n",
       "  <thead>\n",
       "    <tr style=\"text-align: right;\">\n",
       "      <th></th>\n",
       "      <th>T1</th>\n",
       "      <th>T2</th>\n",
       "      <th>T3</th>\n",
       "      <th>T4</th>\n",
       "      <th>T5</th>\n",
       "      <th>T6</th>\n",
       "      <th>T7</th>\n",
       "      <th>T8</th>\n",
       "      <th>T9</th>\n",
       "      <th>T10</th>\n",
       "      <th>T11</th>\n",
       "      <th>T12</th>\n",
       "      <th>T13</th>\n",
       "      <th>T14</th>\n",
       "      <th>T15</th>\n",
       "      <th>T16</th>\n",
       "      <th>T17</th>\n",
       "      <th>T18</th>\n",
       "    </tr>\n",
       "  </thead>\n",
       "  <tbody>\n",
       "    <tr>\n",
       "      <th>0</th>\n",
       "      <td>-76</td>\n",
       "      <td>-83</td>\n",
       "      <td>-70</td>\n",
       "      <td>-66</td>\n",
       "      <td>-64</td>\n",
       "      <td>-72</td>\n",
       "      <td>-64</td>\n",
       "      <td>-69</td>\n",
       "      <td>-60</td>\n",
       "      <td>-76</td>\n",
       "      <td>-83</td>\n",
       "      <td>-78</td>\n",
       "      <td>-81</td>\n",
       "      <td>-81</td>\n",
       "      <td>-81</td>\n",
       "      <td>-70</td>\n",
       "      <td>-60</td>\n",
       "      <td>-60</td>\n",
       "    </tr>\n",
       "    <tr>\n",
       "      <th>1</th>\n",
       "      <td>-58</td>\n",
       "      <td>-57</td>\n",
       "      <td>-78</td>\n",
       "      <td>-81</td>\n",
       "      <td>-73</td>\n",
       "      <td>-73</td>\n",
       "      <td>-78</td>\n",
       "      <td>-78</td>\n",
       "      <td>-82</td>\n",
       "      <td>-49</td>\n",
       "      <td>-55</td>\n",
       "      <td>-58</td>\n",
       "      <td>-66</td>\n",
       "      <td>-79</td>\n",
       "      <td>-72</td>\n",
       "      <td>-83</td>\n",
       "      <td>-74</td>\n",
       "      <td>-80</td>\n",
       "    </tr>\n",
       "    <tr>\n",
       "      <th>2</th>\n",
       "      <td>-70</td>\n",
       "      <td>-70</td>\n",
       "      <td>-71</td>\n",
       "      <td>-69</td>\n",
       "      <td>-69</td>\n",
       "      <td>-68</td>\n",
       "      <td>-61</td>\n",
       "      <td>-55</td>\n",
       "      <td>-53</td>\n",
       "      <td>-82</td>\n",
       "      <td>-87</td>\n",
       "      <td>-76</td>\n",
       "      <td>-68</td>\n",
       "      <td>-57</td>\n",
       "      <td>-64</td>\n",
       "      <td>-75</td>\n",
       "      <td>-57</td>\n",
       "      <td>-70</td>\n",
       "    </tr>\n",
       "    <tr>\n",
       "      <th>3</th>\n",
       "      <td>-71</td>\n",
       "      <td>-61</td>\n",
       "      <td>-56</td>\n",
       "      <td>-56</td>\n",
       "      <td>-61</td>\n",
       "      <td>-60</td>\n",
       "      <td>-68</td>\n",
       "      <td>-66</td>\n",
       "      <td>-72</td>\n",
       "      <td>-58</td>\n",
       "      <td>-55</td>\n",
       "      <td>-56</td>\n",
       "      <td>-58</td>\n",
       "      <td>-62</td>\n",
       "      <td>-61</td>\n",
       "      <td>-59</td>\n",
       "      <td>-64</td>\n",
       "      <td>-65</td>\n",
       "    </tr>\n",
       "    <tr>\n",
       "      <th>4</th>\n",
       "      <td>-72</td>\n",
       "      <td>-71</td>\n",
       "      <td>-64</td>\n",
       "      <td>-69</td>\n",
       "      <td>-64</td>\n",
       "      <td>-63</td>\n",
       "      <td>-61</td>\n",
       "      <td>-42</td>\n",
       "      <td>-55</td>\n",
       "      <td>-61</td>\n",
       "      <td>-69</td>\n",
       "      <td>-67</td>\n",
       "      <td>-63</td>\n",
       "      <td>-63</td>\n",
       "      <td>-55</td>\n",
       "      <td>-49</td>\n",
       "      <td>-49</td>\n",
       "      <td>-57</td>\n",
       "    </tr>\n",
       "    <tr>\n",
       "      <th>...</th>\n",
       "      <td>...</td>\n",
       "      <td>...</td>\n",
       "      <td>...</td>\n",
       "      <td>...</td>\n",
       "      <td>...</td>\n",
       "      <td>...</td>\n",
       "      <td>...</td>\n",
       "      <td>...</td>\n",
       "      <td>...</td>\n",
       "      <td>...</td>\n",
       "      <td>...</td>\n",
       "      <td>...</td>\n",
       "      <td>...</td>\n",
       "      <td>...</td>\n",
       "      <td>...</td>\n",
       "      <td>...</td>\n",
       "      <td>...</td>\n",
       "      <td>...</td>\n",
       "    </tr>\n",
       "    <tr>\n",
       "      <th>15747</th>\n",
       "      <td>-64</td>\n",
       "      <td>-68</td>\n",
       "      <td>-64</td>\n",
       "      <td>-67</td>\n",
       "      <td>-66</td>\n",
       "      <td>-53</td>\n",
       "      <td>-61</td>\n",
       "      <td>-51</td>\n",
       "      <td>-44</td>\n",
       "      <td>-76</td>\n",
       "      <td>-64</td>\n",
       "      <td>-62</td>\n",
       "      <td>-68</td>\n",
       "      <td>-60</td>\n",
       "      <td>-58</td>\n",
       "      <td>-54</td>\n",
       "      <td>-48</td>\n",
       "      <td>-51</td>\n",
       "    </tr>\n",
       "    <tr>\n",
       "      <th>15748</th>\n",
       "      <td>-57</td>\n",
       "      <td>-46</td>\n",
       "      <td>-64</td>\n",
       "      <td>-55</td>\n",
       "      <td>-56</td>\n",
       "      <td>-54</td>\n",
       "      <td>-70</td>\n",
       "      <td>-64</td>\n",
       "      <td>-63</td>\n",
       "      <td>-51</td>\n",
       "      <td>-56</td>\n",
       "      <td>-58</td>\n",
       "      <td>-60</td>\n",
       "      <td>-61</td>\n",
       "      <td>-61</td>\n",
       "      <td>-62</td>\n",
       "      <td>-62</td>\n",
       "      <td>-64</td>\n",
       "    </tr>\n",
       "    <tr>\n",
       "      <th>15749</th>\n",
       "      <td>-76</td>\n",
       "      <td>-67</td>\n",
       "      <td>-69</td>\n",
       "      <td>-71</td>\n",
       "      <td>-68</td>\n",
       "      <td>-70</td>\n",
       "      <td>-57</td>\n",
       "      <td>-57</td>\n",
       "      <td>-59</td>\n",
       "      <td>-76</td>\n",
       "      <td>-85</td>\n",
       "      <td>-72</td>\n",
       "      <td>-67</td>\n",
       "      <td>-58</td>\n",
       "      <td>-66</td>\n",
       "      <td>-66</td>\n",
       "      <td>-55</td>\n",
       "      <td>-54</td>\n",
       "    </tr>\n",
       "    <tr>\n",
       "      <th>15750</th>\n",
       "      <td>-69</td>\n",
       "      <td>-78</td>\n",
       "      <td>-65</td>\n",
       "      <td>-65</td>\n",
       "      <td>-38</td>\n",
       "      <td>-55</td>\n",
       "      <td>-66</td>\n",
       "      <td>-66</td>\n",
       "      <td>-76</td>\n",
       "      <td>-64</td>\n",
       "      <td>-64</td>\n",
       "      <td>-66</td>\n",
       "      <td>-55</td>\n",
       "      <td>-60</td>\n",
       "      <td>-55</td>\n",
       "      <td>-64</td>\n",
       "      <td>-66</td>\n",
       "      <td>-69</td>\n",
       "    </tr>\n",
       "    <tr>\n",
       "      <th>15751</th>\n",
       "      <td>-74</td>\n",
       "      <td>-68</td>\n",
       "      <td>-70</td>\n",
       "      <td>-80</td>\n",
       "      <td>-66</td>\n",
       "      <td>-61</td>\n",
       "      <td>-68</td>\n",
       "      <td>-62</td>\n",
       "      <td>-49</td>\n",
       "      <td>-79</td>\n",
       "      <td>-82</td>\n",
       "      <td>-71</td>\n",
       "      <td>-68</td>\n",
       "      <td>-74</td>\n",
       "      <td>-61</td>\n",
       "      <td>-57</td>\n",
       "      <td>-52</td>\n",
       "      <td>-56</td>\n",
       "    </tr>\n",
       "  </tbody>\n",
       "</table>\n",
       "<p>15752 rows × 18 columns</p>\n",
       "</div>"
      ],
      "text/plain": [
       "       T1  T2  T3  T4  T5  T6  T7  T8  T9  T10  T11  T12  T13  T14  T15  T16  \\\n",
       "0     -76 -83 -70 -66 -64 -72 -64 -69 -60  -76  -83  -78  -81  -81  -81  -70   \n",
       "1     -58 -57 -78 -81 -73 -73 -78 -78 -82  -49  -55  -58  -66  -79  -72  -83   \n",
       "2     -70 -70 -71 -69 -69 -68 -61 -55 -53  -82  -87  -76  -68  -57  -64  -75   \n",
       "3     -71 -61 -56 -56 -61 -60 -68 -66 -72  -58  -55  -56  -58  -62  -61  -59   \n",
       "4     -72 -71 -64 -69 -64 -63 -61 -42 -55  -61  -69  -67  -63  -63  -55  -49   \n",
       "...    ..  ..  ..  ..  ..  ..  ..  ..  ..  ...  ...  ...  ...  ...  ...  ...   \n",
       "15747 -64 -68 -64 -67 -66 -53 -61 -51 -44  -76  -64  -62  -68  -60  -58  -54   \n",
       "15748 -57 -46 -64 -55 -56 -54 -70 -64 -63  -51  -56  -58  -60  -61  -61  -62   \n",
       "15749 -76 -67 -69 -71 -68 -70 -57 -57 -59  -76  -85  -72  -67  -58  -66  -66   \n",
       "15750 -69 -78 -65 -65 -38 -55 -66 -66 -76  -64  -64  -66  -55  -60  -55  -64   \n",
       "15751 -74 -68 -70 -80 -66 -61 -68 -62 -49  -79  -82  -71  -68  -74  -61  -57   \n",
       "\n",
       "       T17  T18  \n",
       "0      -60  -60  \n",
       "1      -74  -80  \n",
       "2      -57  -70  \n",
       "3      -64  -65  \n",
       "4      -49  -57  \n",
       "...    ...  ...  \n",
       "15747  -48  -51  \n",
       "15748  -62  -64  \n",
       "15749  -55  -54  \n",
       "15750  -66  -69  \n",
       "15751  -52  -56  \n",
       "\n",
       "[15752 rows x 18 columns]"
      ]
     },
     "execution_count": 34,
     "metadata": {},
     "output_type": "execute_result"
    }
   ],
   "source": [
    "test=pd.read_csv('../../Project2/Data/test.csv')\n",
    "test"
   ]
  },
  {
   "cell_type": "code",
   "execution_count": 66,
   "id": "4690740f",
   "metadata": {},
   "outputs": [
    {
     "data": {
      "text/html": [
       "<div>\n",
       "<style scoped>\n",
       "    .dataframe tbody tr th:only-of-type {\n",
       "        vertical-align: middle;\n",
       "    }\n",
       "\n",
       "    .dataframe tbody tr th {\n",
       "        vertical-align: top;\n",
       "    }\n",
       "\n",
       "    .dataframe thead th {\n",
       "        text-align: right;\n",
       "    }\n",
       "</style>\n",
       "<table border=\"1\" class=\"dataframe\">\n",
       "  <thead>\n",
       "    <tr style=\"text-align: right;\">\n",
       "      <th></th>\n",
       "      <th>Column_A</th>\n",
       "    </tr>\n",
       "  </thead>\n",
       "  <tbody>\n",
       "    <tr>\n",
       "      <th>0</th>\n",
       "      <td>B74</td>\n",
       "    </tr>\n",
       "    <tr>\n",
       "      <th>1</th>\n",
       "      <td>A10</td>\n",
       "    </tr>\n",
       "    <tr>\n",
       "      <th>2</th>\n",
       "      <td>B65</td>\n",
       "    </tr>\n",
       "    <tr>\n",
       "      <th>3</th>\n",
       "      <td>B20</td>\n",
       "    </tr>\n",
       "    <tr>\n",
       "      <th>4</th>\n",
       "      <td>A67</td>\n",
       "    </tr>\n",
       "    <tr>\n",
       "      <th>...</th>\n",
       "      <td>...</td>\n",
       "    </tr>\n",
       "    <tr>\n",
       "      <th>15747</th>\n",
       "      <td>A71</td>\n",
       "    </tr>\n",
       "    <tr>\n",
       "      <th>15748</th>\n",
       "      <td>B11</td>\n",
       "    </tr>\n",
       "    <tr>\n",
       "      <th>15749</th>\n",
       "      <td>B69</td>\n",
       "    </tr>\n",
       "    <tr>\n",
       "      <th>15750</th>\n",
       "      <td>A38</td>\n",
       "    </tr>\n",
       "    <tr>\n",
       "      <th>15751</th>\n",
       "      <td>A80</td>\n",
       "    </tr>\n",
       "  </tbody>\n",
       "</table>\n",
       "<p>15752 rows × 1 columns</p>\n",
       "</div>"
      ],
      "text/plain": [
       "      Column_A\n",
       "0          B74\n",
       "1          A10\n",
       "2          B65\n",
       "3          B20\n",
       "4          A67\n",
       "...        ...\n",
       "15747      A71\n",
       "15748      B11\n",
       "15749      B69\n",
       "15750      A38\n",
       "15751      A80\n",
       "\n",
       "[15752 rows x 1 columns]"
      ]
     },
     "execution_count": 66,
     "metadata": {},
     "output_type": "execute_result"
    }
   ],
   "source": [
    "test_pred=RFC.predict(test)\n",
    "test_prediction = pd.DataFrame(test_pred, columns=['Column_A'])\n",
    "test_prediction"
   ]
  },
  {
   "cell_type": "code",
   "execution_count": 57,
   "id": "d75d822d",
   "metadata": {},
   "outputs": [
    {
     "data": {
      "text/plain": [
       "array(['B74', 'A10', 'B65', ..., 'B69', 'A38', 'A80'], dtype='<U3')"
      ]
     },
     "execution_count": 57,
     "metadata": {},
     "output_type": "execute_result"
    }
   ],
   "source": [
    "test_pred=GNB.predict(test)\n",
    "test_pred"
   ]
  },
  {
   "cell_type": "code",
   "execution_count": 58,
   "id": "c35eb33f",
   "metadata": {},
   "outputs": [
    {
     "data": {
      "text/plain": [
       "array(['B74', 'A10', 'B65', ..., 'B69', 'A38', 'A80'], dtype=object)"
      ]
     },
     "execution_count": 58,
     "metadata": {},
     "output_type": "execute_result"
    }
   ],
   "source": [
    "test_pred=Dtree.predict(test)\n",
    "test_pred"
   ]
  },
  {
   "cell_type": "code",
   "execution_count": 59,
   "id": "3c0107fc",
   "metadata": {},
   "outputs": [
    {
     "data": {
      "text/plain": [
       "(array(['A1', 'A10', 'A11', 'A12', 'A13', 'A14', 'A15', 'A16', 'A17',\n",
       "        'A18', 'A19', 'A2', 'A20', 'A21', 'A22', 'A23', 'A24', 'A25',\n",
       "        'A26', 'A27', 'A28', 'A29', 'A3', 'A30', 'A31', 'A32', 'A33',\n",
       "        'A34', 'A35', 'A36', 'A37', 'A38', 'A39', 'A4', 'A40', 'A41',\n",
       "        'A42', 'A43', 'A44', 'A45', 'A46', 'A47', 'A48', 'A49', 'A5',\n",
       "        'A50', 'A51', 'A52', 'A53', 'A54', 'A55', 'A56', 'A57', 'A58',\n",
       "        'A59', 'A6', 'A60', 'A61', 'A62', 'A63', 'A64', 'A65', 'A66',\n",
       "        'A67', 'A68', 'A69', 'A7', 'A70', 'A71', 'A72', 'A73', 'A74',\n",
       "        'A75', 'A76', 'A77', 'A78', 'A79', 'A8', 'A80', 'A9', 'B1', 'B10',\n",
       "        'B11', 'B12', 'B13', 'B14', 'B15', 'B16', 'B17', 'B18', 'B19',\n",
       "        'B2', 'B20', 'B21', 'B22', 'B23', 'B24', 'B25', 'B26', 'B27',\n",
       "        'B28', 'B29', 'B3', 'B30', 'B31', 'B32', 'B33', 'B34', 'B35',\n",
       "        'B36', 'B37', 'B38', 'B39', 'B4', 'B40', 'B41', 'B42', 'B43',\n",
       "        'B44', 'B45', 'B46', 'B47', 'B48', 'B49', 'B5', 'B50', 'B51',\n",
       "        'B52', 'B53', 'B54', 'B55', 'B56', 'B57', 'B58', 'B59', 'B6',\n",
       "        'B60', 'B61', 'B62', 'B63', 'B64', 'B65', 'B66', 'B67', 'B68',\n",
       "        'B69', 'B7', 'B70', 'B71', 'B72', 'B73', 'B74', 'B75', 'B76',\n",
       "        'B77', 'B78', 'B79', 'B8', 'B80', 'B9'], dtype=object),\n",
       " array([ 83,  96,  92,  97,  87, 187, 182,  92,  95, 113,  92,  96,  95,\n",
       "        192,  90,  97,  89, 180,  97, 109,  94, 166, 164,  94,  84,  96,\n",
       "        273, 183,  95,  93, 173,  98, 270, 179,  98,  88,  82,  85,  87,\n",
       "         86,  95,  85,  83,  98,  84, 101,  81, 105,  81,  84,  94, 100,\n",
       "         91, 108,  67,  92, 101,  91,  91,  83,  85,  98,  96,  82,  93,\n",
       "        111,  86,  87, 103,  97,  80,  87,  76,  85,  56,  91,  95,  92,\n",
       "         95, 113,  93,  99,  91,  91,  77,  90, 100,  79,  82,  83,  92,\n",
       "         84,  90,  82,  78,  91,  88,  88,  94,  87,  88,  86,  84,  90,\n",
       "         85, 105,  87,  85,  88,  95,  88,  97,  92,  76,  95,  98,  84,\n",
       "         92,  82, 176,  84,  77,  72,  91,  82,  91,  67,  89,  77,  95,\n",
       "         99,  81,  79, 180,  99,  91,  88,  83,  80,  79,  94, 115, 106,\n",
       "         87, 102,  92,  83,  95,  86,  91,  87,  99, 100,  74, 107,  91,\n",
       "         85,  86,  93,  91]))"
      ]
     },
     "execution_count": 59,
     "metadata": {},
     "output_type": "execute_result"
    }
   ],
   "source": [
    "np.unique(test_pred,return_counts=True)"
   ]
  },
  {
   "cell_type": "code",
   "execution_count": 62,
   "id": "68af35e4",
   "metadata": {},
   "outputs": [
    {
     "name": "stderr",
     "output_type": "stream",
     "text": [
      "/home/ganesh/anaconda3/lib/python3.11/site-packages/sklearn/base.py:464: UserWarning: X does not have valid feature names, but RandomForestClassifier was fitted with feature names\n",
      "  warnings.warn(\n"
     ]
    }
   ],
   "source": [
    "pre=RFC.predict([[-76, -83, -70,-66 ,-64 ,-72 ,-64 ,-69 ,-60 ,-76,-83,-78,-81 ,-81 ,-81 ,-70,-60 ,-60]])"
   ]
  },
  {
   "cell_type": "code",
   "execution_count": 63,
   "id": "ae5617a9",
   "metadata": {},
   "outputs": [
    {
     "data": {
      "text/plain": [
       "array(['B74'], dtype=object)"
      ]
     },
     "execution_count": 63,
     "metadata": {},
     "output_type": "execute_result"
    }
   ],
   "source": [
    "pre"
   ]
  },
  {
   "cell_type": "code",
   "execution_count": 64,
   "id": "f6c96abe",
   "metadata": {},
   "outputs": [
    {
     "name": "stderr",
     "output_type": "stream",
     "text": [
      "/home/ganesh/anaconda3/lib/python3.11/site-packages/sklearn/base.py:464: UserWarning: X does not have valid feature names, but GaussianNB was fitted with feature names\n",
      "  warnings.warn(\n"
     ]
    }
   ],
   "source": [
    "pre=GNB.predict([[-76, -83, -70,-66 ,-64 ,-72 ,-64 ,-69 ,-60 ,-76,-83,-78,-81 ,-81 ,-81 ,-70,-60 ,-60]])"
   ]
  },
  {
   "cell_type": "code",
   "execution_count": 42,
   "id": "fa47ae49",
   "metadata": {},
   "outputs": [
    {
     "data": {
      "text/plain": [
       "array([39])"
      ]
     },
     "execution_count": 42,
     "metadata": {},
     "output_type": "execute_result"
    }
   ],
   "source": [
    "pre"
   ]
  },
  {
   "cell_type": "code",
   "execution_count": null,
   "id": "c1785afd",
   "metadata": {},
   "outputs": [],
   "source": []
  }
 ],
 "metadata": {
  "kernelspec": {
   "display_name": "Python 3 (ipykernel)",
   "language": "python",
   "name": "python3"
  },
  "language_info": {
   "codemirror_mode": {
    "name": "ipython",
    "version": 3
   },
   "file_extension": ".py",
   "mimetype": "text/x-python",
   "name": "python",
   "nbconvert_exporter": "python",
   "pygments_lexer": "ipython3",
   "version": "3.11.5"
  }
 },
 "nbformat": 4,
 "nbformat_minor": 5
}
